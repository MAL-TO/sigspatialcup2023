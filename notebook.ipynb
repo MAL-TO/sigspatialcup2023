{
 "cells": [
  {
   "cell_type": "code",
   "execution_count": 3,
   "metadata": {},
   "outputs": [],
   "source": [
    "from torchvision.transforms import ToTensor\n",
    "import rasterio\n",
    "from rasterio.plot import show\n",
    "import numpy as np\n",
    "import geopandas as gp\n",
    "from matplotlib.pyplot import plot\n",
    "\n",
    "lakes_train_test = \"/data1/malto/sigspatial/lakes_regions.gpkg\"\n",
    "regions = gp.read_file(lakes_train_test)\n"
   ]
  },
  {
   "cell_type": "code",
   "execution_count": 48,
   "metadata": {},
   "outputs": [
    {
     "name": "stdout",
     "output_type": "stream",
     "text": [
      "<class 'shapely.geometry.polygon.Polygon'>\n"
     ]
    },
    {
     "data": {
      "text/plain": [
       "geopandas.geoseries.GeoSeries"
      ]
     },
     "execution_count": 48,
     "metadata": {},
     "output_type": "execute_result"
    }
   ],
   "source": [
    "elem = regions.iloc[5][1]\n",
    "print(type(elem))\n",
    "rectangle = elem.minimum_rotated_rectangle\n",
    "rectangle = gp.GeoSeries(rectangle)\n",
    "type(rectangle)\n",
    "\n"
   ]
  },
  {
   "cell_type": "code",
   "execution_count": 81,
   "metadata": {},
   "outputs": [
    {
     "data": {
      "text/plain": [
       "geopandas.geoseries.GeoSeries"
      ]
     },
     "execution_count": 81,
     "metadata": {},
     "output_type": "execute_result"
    }
   ],
   "source": [
    "type(rectangle)"
   ]
  },
  {
   "cell_type": "code",
   "execution_count": 80,
   "metadata": {},
   "outputs": [
    {
     "data": {
      "image/svg+xml": [
       "<svg xmlns=\"http://www.w3.org/2000/svg\" xmlns:xlink=\"http://www.w3.org/1999/xlink\" width=\"241.9199999999255\" height=\"241.92000000178814\" viewBox=\"-2793405.293211436 14241103.94235997 241.9199999999255 241.92000000178814\" preserveAspectRatio=\"xMinYMin meet\"><g transform=\"matrix(1,0,0,-1,0,28482449.804719944)\"><path fill-rule=\"evenodd\" fill=\"#66cc99\" stroke=\"#555555\" stroke-width=\"2.0\" opacity=\"0.6\" d=\"M -2793396.333211436,14241112.902359972 L -2793172.333211436,14241112.902359972 L -2793172.333211436,14241336.902359972 L -2793396.333211436,14241336.902359972 L -2793396.333211436,14241112.902359972 z\" /></g></svg>"
      ],
      "text/plain": [
       "<POLYGON ((-2793396.333 14241112.902, -2793172.333 14241112.902, -2793172.33...>"
      ]
     },
     "execution_count": 80,
     "metadata": {},
     "output_type": "execute_result"
    }
   ],
   "source": [
    "import shapely\n",
    "num_points = 10\n",
    "dim = 224\n",
    "A = rectangle.sample_points(1)\n",
    "B = A.translate(xoff=dim, yoff=0.0, zoff=0.0)\n",
    "C = A.translate(xoff=dim, yoff=dim, zoff=0.0)\n",
    "D = A.translate(xoff=0.0, yoff=dim, zoff=0.0)\n",
    "\n",
    "shapely.Polygon((A[0], B[0], C[0], D[0]))\n",
    "\n",
    "\n",
    "#print(type(square.iloc[0]))\n",
    "#sq1 = gp.GeoSeries(square.iloc[0])\n",
    "\n",
    "#print(sq1)\n",
    "\n",
    "# sq1 = sq1.minimum_rotated_rectangle"
   ]
  },
  {
   "cell_type": "code",
   "execution_count": 57,
   "metadata": {},
   "outputs": [
    {
     "data": {
      "text/plain": [
       "region_num                                                    2\n",
       "geometry      POLYGON ((-5581347.050005112 10549567.61635368...\n",
       "Name: 1, dtype: object"
      ]
     },
     "execution_count": 57,
     "metadata": {},
     "output_type": "execute_result"
    }
   ],
   "source": [
    "regions.iloc[1]\n",
    "#type(regions.iloc[1])"
   ]
  },
  {
   "cell_type": "code",
   "execution_count": 59,
   "metadata": {},
   "outputs": [
    {
     "data": {
      "text/plain": [
       "shapely.geometry.polygon.Polygon"
      ]
     },
     "execution_count": 59,
     "metadata": {},
     "output_type": "execute_result"
    }
   ],
   "source": [
    "regions.iloc[1][1]\n",
    "type(regions.iloc[1][1])"
   ]
  }
 ],
 "metadata": {
  "kernelspec": {
   "display_name": ".venv",
   "language": "python",
   "name": "python3"
  },
  "language_info": {
   "codemirror_mode": {
    "name": "ipython",
    "version": 3
   },
   "file_extension": ".py",
   "mimetype": "text/x-python",
   "name": "python",
   "nbconvert_exporter": "python",
   "pygments_lexer": "ipython3",
   "version": "3.8.10"
  },
  "orig_nbformat": 4
 },
 "nbformat": 4,
 "nbformat_minor": 2
}

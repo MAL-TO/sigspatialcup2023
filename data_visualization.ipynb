{
 "cells": [
  {
   "cell_type": "code",
   "execution_count": null,
   "metadata": {},
   "outputs": [
    {
     "ename": "",
     "evalue": "",
     "output_type": "error",
     "traceback": [
      "\u001b[1;31mRunning cells with '/usr/bin/python3' requires the ipykernel package.\n",
      "\u001b[1;31mRun the following command to install 'ipykernel' into the Python environment. \n",
      "\u001b[1;31mCommand: '/usr/bin/python3 -m pip install ipykernel -U --user --force-reinstall'"
     ]
    }
   ],
   "source": [
    "# files paths\n",
    "file_path = \"drive-download-20230904T135232Z-004/Greenland26X_22W_Sentinel2_2019-06-19_20.tif\"\n",
    "file_path1 = \"drive-download-20230904T135232Z-004/Greenland26X_22W_Sentinel2_2019-06-03_05.tif\"\n",
    "file_path2 = \"drive-download-20230904T135232Z-004/Greenland26X_22W_Sentinel2_2019-07-31_25.tif\"\n",
    "file_path3 = \"drive-download-20230904T135232Z-004/Greenland26X_22W_Sentinel2_2019-08-25_29.tif\"\n",
    "polygons_file = \"drive-download-20230904T135232Z-004\\lake_polygons_training.gpkg\"\n",
    "lakes_train_test = \"drive-download-20230904T135232Z-004\\lakes_regions.gpkg\"\n"
   ]
  },
  {
   "cell_type": "code",
   "execution_count": null,
   "metadata": {},
   "outputs": [],
   "source": [
    "# open files\n",
    "from torchvision.transforms import ToTensor\n",
    "import rasterio\n",
    "from rasterio.plot import show\n",
    "import numpy as np\n",
    "import geopandas as gp\n",
    "\n",
    "# tif files\n",
    "img = rasterio.open(file_path)\n",
    "img1 = rasterio.open(file_path1)\n",
    "img2 = rasterio.open(file_path2)\n",
    "img3 = rasterio.open(file_path3)\n",
    "# geopackage files\n",
    "lakes_poly = gp.read_file(polygons_file)\n",
    "regions = gp.read_file(lakes_train_test)"
   ]
  },
  {
   "cell_type": "code",
   "execution_count": null,
   "metadata": {},
   "outputs": [],
   "source": [
    "# to plot regions\n",
    "regions.plot()\n",
    "# to plot lakes\n",
    "lakes_poly.plot()"
   ]
  },
  {
   "cell_type": "code",
   "execution_count": null,
   "metadata": {},
   "outputs": [],
   "source": [
    "def from_tif_to_tensor(image):\n",
    "\n",
    "    image_array = image.read()\n",
    "    torch_image = ToTensor()(image_array)\n",
    "    print(torch_image.shape)"
   ]
  },
  {
   "cell_type": "code",
   "execution_count": null,
   "metadata": {},
   "outputs": [],
   "source": [
    "from matplotlib import pyplot\n",
    "\n",
    "def plot_image(image):\n",
    "    pyplot.clf()\n",
    "    image_array = image.read()\n",
    "    image_array = np.transpose(image_array, (1, 2, 0))\n",
    "    pyplot.imshow(image_array)\n",
    "    pyplot.show()\n"
   ]
  },
  {
   "cell_type": "code",
   "execution_count": null,
   "metadata": {},
   "outputs": [],
   "source": [
    "# to create a cropped image and save it as tif image\n",
    "import random\n",
    "from rasterio.windows import Window\n",
    "\n",
    "# to cut a tif image\n",
    "# The size in pixels of your desired window\n",
    "xsize, ysize = 1024, 1024\n",
    "\n",
    "# Generate a random window origin (upper left) that ensures the window \n",
    "# doesn't go outside the image. i.e. origin can only be between \n",
    "# 0 and image width or height less the window width or height\n",
    "xmin, xmax = 0, image.width - xsize\n",
    "ymin, ymax = 0, image.height - ysize\n",
    "xoff, yoff = 50500, 100000\n",
    "\n",
    "# Create a Window and calculate the transform from the source dataset    \n",
    "window = Window(xoff, yoff, xsize, ysize)\n",
    "transform = image.window_transform(window)\n",
    "\n",
    "# Create a new cropped raster to write to\n",
    "profile = image.profile\n",
    "profile.update({\n",
    "    'height': xsize,\n",
    "    'width': ysize,\n",
    "    'transform': transform})\n",
    "\n",
    "with rasterio.open('output4.tif', 'w', **profile) as dst:\n",
    "    # Read the data from the window and write it to the output raster\n",
    "    dst.write(image.read(window=window))"
   ]
  }
 ],
 "metadata": {
  "kernelspec": {
   "display_name": "Python 3",
   "language": "python",
   "name": "python3"
  },
  "language_info": {
   "name": "python",
   "version": "3.8.10"
  },
  "orig_nbformat": 4
 },
 "nbformat": 4,
 "nbformat_minor": 2
}

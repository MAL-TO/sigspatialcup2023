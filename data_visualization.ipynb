{
 "cells": [
  {
   "cell_type": "code",
   "execution_count": 4,
   "metadata": {},
   "outputs": [],
   "source": [
    "# files paths\n",
    "file_path = \"drive-download-20230904T135232Z-004/Greenland26X_22W_Sentinel2_2019-06-19_20.tif\"\n",
    "file_path1 = \"drive-download-20230904T135232Z-004/Greenland26X_22W_Sentinel2_2019-06-03_05.tif\"\n",
    "file_path2 = \"drive-download-20230904T135232Z-004/Greenland26X_22W_Sentinel2_2019-07-31_25.tif\"\n",
    "file_path3 = \"drive-download-20230904T135232Z-004/Greenland26X_22W_Sentinel2_2019-08-25_29.tif\"\n",
    "polygons_file = \"drive-download-20230904T135232Z-004\\lake_polygons_training.gpkg\"\n",
    "lakes_train_test = \"drive-download-20230904T135232Z-004\\lakes_regions.gpkg\"\n"
   ]
  },
  {
   "cell_type": "code",
   "execution_count": 18,
   "metadata": {},
   "outputs": [
    {
     "data": {
      "text/plain": [
       "4"
      ]
     },
     "execution_count": 18,
     "metadata": {},
     "output_type": "execute_result"
    }
   ],
   "source": [
    "len(image_names)"
   ]
  },
  {
   "cell_type": "code",
   "execution_count": 20,
   "metadata": {},
   "outputs": [],
   "source": [
    "import pathlib\n",
    "import os \n",
    "# open files\n",
    "from torchvision.transforms import ToTensor\n",
    "import rasterio\n",
    "from rasterio.plot import show\n",
    "import numpy as np\n",
    "import geopandas as gp\n",
    "\n",
    "IMAGE_DIR = pathlib.Path(\"downloads\")\n",
    "image_names = [name for name in os.listdir(IMAGE_DIR) if name.split(\".\")[-1] == \"tif\"]\n",
    "file_path = [IMAGE_DIR / n for n in image_names]\n",
    "polygons_file = IMAGE_DIR / \"lake_polygons_training.gpkg\"\n",
    "lakes_train_test = IMAGE_DIR / \"lakes_regions.gpkg\"\n",
    "\n",
    "imgs = [rasterio.open(f) for f in file_path]\n",
    "lakes_poly = gp.read_file(polygons_file)\n",
    "regions = gp.read_file(lakes_train_test)"
   ]
  },
  {
   "cell_type": "code",
   "execution_count": 17,
   "metadata": {},
   "outputs": [
    {
     "ename": "RasterioIOError",
     "evalue": "drive-download-20230904T135232Z-004/Greenland26X_22W_Sentinel2_2019-06-03_05.tif: No such file or directory",
     "output_type": "error",
     "traceback": [
      "\u001b[1;31m---------------------------------------------------------------------------\u001b[0m",
      "\u001b[1;31mCPLE_OpenFailedError\u001b[0m                      Traceback (most recent call last)",
      "File \u001b[1;32mrasterio\\_base.pyx:310\u001b[0m, in \u001b[0;36mrasterio._base.DatasetBase.__init__\u001b[1;34m()\u001b[0m\n",
      "File \u001b[1;32mrasterio\\_base.pyx:221\u001b[0m, in \u001b[0;36mrasterio._base.open_dataset\u001b[1;34m()\u001b[0m\n",
      "File \u001b[1;32mrasterio\\_err.pyx:221\u001b[0m, in \u001b[0;36mrasterio._err.exc_wrap_pointer\u001b[1;34m()\u001b[0m\n",
      "\u001b[1;31mCPLE_OpenFailedError\u001b[0m: drive-download-20230904T135232Z-004/Greenland26X_22W_Sentinel2_2019-06-03_05.tif: No such file or directory",
      "\nDuring handling of the above exception, another exception occurred:\n",
      "\u001b[1;31mRasterioIOError\u001b[0m                           Traceback (most recent call last)",
      "\u001b[1;32md:\\GitHub\\sigspatialcup2023\\data_visualization.ipynb Cella 3\u001b[0m line \u001b[0;36m1\n\u001b[0;32m      <a href='vscode-notebook-cell:/d%3A/GitHub/sigspatialcup2023/data_visualization.ipynb#W1sZmlsZQ%3D%3D?line=7'>8</a>\u001b[0m \u001b[39m# tif files\u001b[39;00m\n\u001b[0;32m      <a href='vscode-notebook-cell:/d%3A/GitHub/sigspatialcup2023/data_visualization.ipynb#W1sZmlsZQ%3D%3D?line=8'>9</a>\u001b[0m img \u001b[39m=\u001b[39m rasterio\u001b[39m.\u001b[39mopen(file_path)\n\u001b[1;32m---> <a href='vscode-notebook-cell:/d%3A/GitHub/sigspatialcup2023/data_visualization.ipynb#W1sZmlsZQ%3D%3D?line=9'>10</a>\u001b[0m img1 \u001b[39m=\u001b[39m rasterio\u001b[39m.\u001b[39;49mopen(file_path1)\n\u001b[0;32m     <a href='vscode-notebook-cell:/d%3A/GitHub/sigspatialcup2023/data_visualization.ipynb#W1sZmlsZQ%3D%3D?line=10'>11</a>\u001b[0m img2 \u001b[39m=\u001b[39m rasterio\u001b[39m.\u001b[39mopen(file_path2)\n\u001b[0;32m     <a href='vscode-notebook-cell:/d%3A/GitHub/sigspatialcup2023/data_visualization.ipynb#W1sZmlsZQ%3D%3D?line=11'>12</a>\u001b[0m img3 \u001b[39m=\u001b[39m rasterio\u001b[39m.\u001b[39mopen(file_path3)\n",
      "File \u001b[1;32m~\\AppData\\Roaming\\Python\\Python310\\site-packages\\rasterio\\env.py:451\u001b[0m, in \u001b[0;36mensure_env_with_credentials.<locals>.wrapper\u001b[1;34m(*args, **kwds)\u001b[0m\n\u001b[0;32m    448\u001b[0m     session \u001b[39m=\u001b[39m DummySession()\n\u001b[0;32m    450\u001b[0m \u001b[39mwith\u001b[39;00m env_ctor(session\u001b[39m=\u001b[39msession):\n\u001b[1;32m--> 451\u001b[0m     \u001b[39mreturn\u001b[39;00m f(\u001b[39m*\u001b[39margs, \u001b[39m*\u001b[39m\u001b[39m*\u001b[39mkwds)\n",
      "File \u001b[1;32m~\\AppData\\Roaming\\Python\\Python310\\site-packages\\rasterio\\__init__.py:319\u001b[0m, in \u001b[0;36mopen\u001b[1;34m(fp, mode, driver, width, height, count, crs, transform, dtype, nodata, sharing, **kwargs)\u001b[0m\n\u001b[0;32m    316\u001b[0m path \u001b[39m=\u001b[39m _parse_path(raw_dataset_path)\n\u001b[0;32m    318\u001b[0m \u001b[39mif\u001b[39;00m mode \u001b[39m==\u001b[39m \u001b[39m\"\u001b[39m\u001b[39mr\u001b[39m\u001b[39m\"\u001b[39m:\n\u001b[1;32m--> 319\u001b[0m     dataset \u001b[39m=\u001b[39m DatasetReader(path, driver\u001b[39m=\u001b[39mdriver, sharing\u001b[39m=\u001b[39msharing, \u001b[39m*\u001b[39m\u001b[39m*\u001b[39mkwargs)\n\u001b[0;32m    320\u001b[0m \u001b[39melif\u001b[39;00m mode \u001b[39m==\u001b[39m \u001b[39m\"\u001b[39m\u001b[39mr+\u001b[39m\u001b[39m\"\u001b[39m:\n\u001b[0;32m    321\u001b[0m     dataset \u001b[39m=\u001b[39m get_writer_for_path(path, driver\u001b[39m=\u001b[39mdriver)(\n\u001b[0;32m    322\u001b[0m         path, mode, driver\u001b[39m=\u001b[39mdriver, sharing\u001b[39m=\u001b[39msharing, \u001b[39m*\u001b[39m\u001b[39m*\u001b[39mkwargs\n\u001b[0;32m    323\u001b[0m     )\n",
      "File \u001b[1;32mrasterio\\_base.pyx:312\u001b[0m, in \u001b[0;36mrasterio._base.DatasetBase.__init__\u001b[1;34m()\u001b[0m\n",
      "\u001b[1;31mRasterioIOError\u001b[0m: drive-download-20230904T135232Z-004/Greenland26X_22W_Sentinel2_2019-06-03_05.tif: No such file or directory"
     ]
    }
   ],
   "source": [
    "# open files\n",
    "from torchvision.transforms import ToTensor\n",
    "import rasterio\n",
    "from rasterio.plot import show\n",
    "import numpy as np\n",
    "import geopandas as gp\n",
    "\n",
    "# tif files\n",
    "img = rasterio.open(file_path)\n",
    "img1 = rasterio.open(file_path1)\n",
    "img2 = rasterio.open(file_path2)\n",
    "img3 = rasterio.open(file_path3)\n",
    "# geopackage files\n",
    "lakes_poly = gp.read_file(polygons_file)\n",
    "regions = gp.read_file(lakes_train_test)"
   ]
  },
  {
   "cell_type": "code",
   "execution_count": 21,
   "metadata": {},
   "outputs": [
    {
     "data": {
      "text/plain": [
       "<Axes: >"
      ]
     },
     "execution_count": 21,
     "metadata": {},
     "output_type": "execute_result"
    },
    {
     "data": {
      "image/png": "[encoded data removed]",
      "text/plain": [
       "<Figure size 640x480 with 1 Axes>"
      ]
     },
     "metadata": {},
     "output_type": "display_data"
    },
    {
     "data": {
      "image/png": "[encoded data removed]",
      "text/plain": [
       "<Figure size 640x480 with 1 Axes>"
      ]
     },
     "metadata": {},
     "output_type": "display_data"
    }
   ],
   "source": [
    "# to plot regions\n",
    "regions.plot()\n",
    "# to plot lakes\n",
    "lakes_poly.plot()"
   ]
  },
  {
   "cell_type": "code",
   "execution_count": 33,
   "metadata": {},
   "outputs": [],
   "source": [
    "def from_tif_to_tensor(image):\n",
    "\n",
    "    image_array = image.read()\n",
    "    torch_image = ToTensor()(image_array)\n",
    "    return torch_image"
   ]
  },
  {
   "cell_type": "code",
   "execution_count": 24,
   "metadata": {},
   "outputs": [],
   "source": [
    "from matplotlib import pyplot\n",
    "\n",
    "def plot_image(image):\n",
    "    pyplot.clf()\n",
    "    image_array = image.read()\n",
    "    image_array = np.transpose(image_array, (1, 2, 0))\n",
    "    pyplot.imshow(image_array)\n",
    "    pyplot.show()\n"
   ]
  },
  {
   "cell_type": "code",
   "execution_count": 15,
   "metadata": {},
   "outputs": [
    {
     "ename": "NameError",
     "evalue": "name 'image' is not defined",
     "output_type": "error",
     "traceback": [
      "\u001b[1;31m---------------------------------------------------------------------------\u001b[0m",
      "\u001b[1;31mNameError\u001b[0m                                 Traceback (most recent call last)",
      "\u001b[1;32md:\\GitHub\\sigspatialcup2023\\data_visualization.ipynb Cella 7\u001b[0m line \u001b[0;36m1\n\u001b[0;32m      <a href='vscode-notebook-cell:/d%3A/GitHub/sigspatialcup2023/data_visualization.ipynb#W5sZmlsZQ%3D%3D?line=6'>7</a>\u001b[0m xsize, ysize \u001b[39m=\u001b[39m \u001b[39m1024\u001b[39m, \u001b[39m1024\u001b[39m\n\u001b[0;32m      <a href='vscode-notebook-cell:/d%3A/GitHub/sigspatialcup2023/data_visualization.ipynb#W5sZmlsZQ%3D%3D?line=8'>9</a>\u001b[0m \u001b[39m# Generate a random window origin (upper left) that ensures the window \u001b[39;00m\n\u001b[0;32m     <a href='vscode-notebook-cell:/d%3A/GitHub/sigspatialcup2023/data_visualization.ipynb#W5sZmlsZQ%3D%3D?line=9'>10</a>\u001b[0m \u001b[39m# doesn't go outside the image. i.e. origin can only be between \u001b[39;00m\n\u001b[0;32m     <a href='vscode-notebook-cell:/d%3A/GitHub/sigspatialcup2023/data_visualization.ipynb#W5sZmlsZQ%3D%3D?line=10'>11</a>\u001b[0m \u001b[39m# 0 and image width or height less the window width or height\u001b[39;00m\n\u001b[1;32m---> <a href='vscode-notebook-cell:/d%3A/GitHub/sigspatialcup2023/data_visualization.ipynb#W5sZmlsZQ%3D%3D?line=11'>12</a>\u001b[0m xmin, xmax \u001b[39m=\u001b[39m \u001b[39m0\u001b[39m, image\u001b[39m.\u001b[39mwidth \u001b[39m-\u001b[39m xsize\n\u001b[0;32m     <a href='vscode-notebook-cell:/d%3A/GitHub/sigspatialcup2023/data_visualization.ipynb#W5sZmlsZQ%3D%3D?line=12'>13</a>\u001b[0m ymin, ymax \u001b[39m=\u001b[39m \u001b[39m0\u001b[39m, image\u001b[39m.\u001b[39mheight \u001b[39m-\u001b[39m ysize\n\u001b[0;32m     <a href='vscode-notebook-cell:/d%3A/GitHub/sigspatialcup2023/data_visualization.ipynb#W5sZmlsZQ%3D%3D?line=13'>14</a>\u001b[0m xoff, yoff \u001b[39m=\u001b[39m \u001b[39m50500\u001b[39m, \u001b[39m100000\u001b[39m\n",
      "\u001b[1;31mNameError\u001b[0m: name 'image' is not defined"
     ]
    }
   ],
   "source": [
    "# parte scritta da Giulia \n",
    "# to create a cropped image and save it as tif image\n",
    "import random\n",
    "from rasterio.windows import Window\n",
    "\n",
    "# to cut a tif image\n",
    "# The size in pixels of your desired window\n",
    "xsize, ysize = 1024, 1024\n",
    "\n",
    "# Generate a random window origin (upper left) that ensures the window \n",
    "# doesn't go outside the image. i.e. origin can only be between \n",
    "# 0 and image width or height less the window width or height\n",
    "xmin, xmax = 0, image.width - xsize\n",
    "ymin, ymax = 0, image.height - ysize\n",
    "xoff, yoff = 50500, 100000\n",
    "\n",
    "# Create a Window and calculate the transform from the source dataset    \n",
    "window = Window(xoff, yoff, xsize, ysize)\n",
    "transform = image.window_transform(window)\n",
    "\n",
    "# Create a new cropped raster to write to\n",
    "profile = image.profile\n",
    "profile.update({\n",
    "    'height': xsize,\n",
    "    'width': ysize,\n",
    "    'transform': transform})\n",
    "\n",
    "with rasterio.open('output4.tif', 'w', **profile) as dst:\n",
    "    # Read the data from the window and write it to the output raster\n",
    "    dst.write(image.read(window=window))"
   ]
  },
  {
   "cell_type": "code",
   "execution_count": 26,
   "metadata": {},
   "outputs": [
    {
     "ename": "KeyboardInterrupt",
     "evalue": "",
     "output_type": "error",
     "traceback": [
      "\u001b[1;31m---------------------------------------------------------------------------\u001b[0m",
      "\u001b[1;31mKeyboardInterrupt\u001b[0m                         Traceback (most recent call last)",
      "\u001b[1;32md:\\GitHub\\sigspatialcup2023\\data_visualization.ipynb Cella 10\u001b[0m line \u001b[0;36m3\n\u001b[0;32m     <a href='vscode-notebook-cell:/d%3A/GitHub/sigspatialcup2023/data_visualization.ipynb#X15sZmlsZQ%3D%3D?line=24'>25</a>\u001b[0m profile \u001b[39m=\u001b[39m img\u001b[39m.\u001b[39mprofile\n\u001b[0;32m     <a href='vscode-notebook-cell:/d%3A/GitHub/sigspatialcup2023/data_visualization.ipynb#X15sZmlsZQ%3D%3D?line=25'>26</a>\u001b[0m profile\u001b[39m.\u001b[39mupdate({\n\u001b[0;32m     <a href='vscode-notebook-cell:/d%3A/GitHub/sigspatialcup2023/data_visualization.ipynb#X15sZmlsZQ%3D%3D?line=26'>27</a>\u001b[0m     \u001b[39m'\u001b[39m\u001b[39mheight\u001b[39m\u001b[39m'\u001b[39m: xsize,\n\u001b[0;32m     <a href='vscode-notebook-cell:/d%3A/GitHub/sigspatialcup2023/data_visualization.ipynb#X15sZmlsZQ%3D%3D?line=27'>28</a>\u001b[0m     \u001b[39m'\u001b[39m\u001b[39mwidth\u001b[39m\u001b[39m'\u001b[39m: ysize,\n\u001b[0;32m     <a href='vscode-notebook-cell:/d%3A/GitHub/sigspatialcup2023/data_visualization.ipynb#X15sZmlsZQ%3D%3D?line=28'>29</a>\u001b[0m     \u001b[39m'\u001b[39m\u001b[39mtransform\u001b[39m\u001b[39m'\u001b[39m: transform})\n\u001b[1;32m---> <a href='vscode-notebook-cell:/d%3A/GitHub/sigspatialcup2023/data_visualization.ipynb#X15sZmlsZQ%3D%3D?line=30'>31</a>\u001b[0m \u001b[39mwith\u001b[39;00m rasterio\u001b[39m.\u001b[39mopen(\u001b[39mf\u001b[39m\u001b[39m'\u001b[39m\u001b[39moutput\u001b[39m\u001b[39m{\u001b[39;00mi\u001b[39m}\u001b[39;00m\u001b[39m.tif\u001b[39m\u001b[39m'\u001b[39m, \u001b[39m'\u001b[39m\u001b[39mw\u001b[39m\u001b[39m'\u001b[39m, \u001b[39m*\u001b[39m\u001b[39m*\u001b[39mprofile) \u001b[39mas\u001b[39;00m dst:\n\u001b[0;32m     <a href='vscode-notebook-cell:/d%3A/GitHub/sigspatialcup2023/data_visualization.ipynb#X15sZmlsZQ%3D%3D?line=31'>32</a>\u001b[0m     \u001b[39m# Read the data from the window and write it to the output raster\u001b[39;00m\n\u001b[0;32m     <a href='vscode-notebook-cell:/d%3A/GitHub/sigspatialcup2023/data_visualization.ipynb#X15sZmlsZQ%3D%3D?line=32'>33</a>\u001b[0m     dst\u001b[39m.\u001b[39mwrite(img\u001b[39m.\u001b[39mread(window\u001b[39m=\u001b[39mwindow))\n\u001b[0;32m     <a href='vscode-notebook-cell:/d%3A/GitHub/sigspatialcup2023/data_visualization.ipynb#X15sZmlsZQ%3D%3D?line=34'>35</a>\u001b[0m i \u001b[39m+\u001b[39m\u001b[39m=\u001b[39m \u001b[39m1\u001b[39m\n",
      "File \u001b[1;32mrasterio\\_base.pyx:445\u001b[0m, in \u001b[0;36mrasterio._base.DatasetBase.__enter__\u001b[1;34m()\u001b[0m\n",
      "File \u001b[1;32mc:\\ProgramData\\miniconda3\\lib\\contextlib.py:492\u001b[0m, in \u001b[0;36m_BaseExitStack.enter_context\u001b[1;34m(self, cm)\u001b[0m\n\u001b[0;32m    490\u001b[0m _cm_type \u001b[39m=\u001b[39m \u001b[39mtype\u001b[39m(cm)\n\u001b[0;32m    491\u001b[0m _exit \u001b[39m=\u001b[39m _cm_type\u001b[39m.\u001b[39m\u001b[39m__exit__\u001b[39m\n\u001b[1;32m--> 492\u001b[0m result \u001b[39m=\u001b[39m _cm_type\u001b[39m.\u001b[39;49m\u001b[39m__enter__\u001b[39;49m(cm)\n\u001b[0;32m    493\u001b[0m \u001b[39mself\u001b[39m\u001b[39m.\u001b[39m_push_cm_exit(cm, _exit)\n\u001b[0;32m    494\u001b[0m \u001b[39mreturn\u001b[39;00m result\n",
      "File \u001b[1;32m~\\AppData\\Roaming\\Python\\Python310\\site-packages\\rasterio\\env.py:287\u001b[0m, in \u001b[0;36mEnv.__enter__\u001b[1;34m(self)\u001b[0m\n\u001b[0;32m    284\u001b[0m         \u001b[39mif\u001b[39;00m val \u001b[39mis\u001b[39;00m \u001b[39mnot\u001b[39;00m \u001b[39mNone\u001b[39;00m:\n\u001b[0;32m    285\u001b[0m             local\u001b[39m.\u001b[39m_discovered_options[key] \u001b[39m=\u001b[39m val\n\u001b[1;32m--> 287\u001b[0m     defenv(\u001b[39m*\u001b[39m\u001b[39m*\u001b[39m\u001b[39mself\u001b[39m\u001b[39m.\u001b[39moptions)\n\u001b[0;32m    288\u001b[0m     \u001b[39mself\u001b[39m\u001b[39m.\u001b[39mcontext_options \u001b[39m=\u001b[39m {}\n\u001b[0;32m    289\u001b[0m \u001b[39melse\u001b[39;00m:\n",
      "File \u001b[1;32m~\\AppData\\Roaming\\Python\\Python310\\site-packages\\rasterio\\env.py:326\u001b[0m, in \u001b[0;36mdefenv\u001b[1;34m(**options)\u001b[0m\n\u001b[0;32m    323\u001b[0m     local\u001b[39m.\u001b[39m_env\u001b[39m.\u001b[39mupdate_config_options(\u001b[39m*\u001b[39m\u001b[39m*\u001b[39moptions)\n\u001b[0;32m    324\u001b[0m     log\u001b[39m.\u001b[39mdebug(\n\u001b[0;32m    325\u001b[0m         \u001b[39m\"\u001b[39m\u001b[39mNew GDAL environment \u001b[39m\u001b[39m%r\u001b[39;00m\u001b[39m created\u001b[39m\u001b[39m\"\u001b[39m, local\u001b[39m.\u001b[39m_env)\n\u001b[1;32m--> 326\u001b[0m local\u001b[39m.\u001b[39;49m_env\u001b[39m.\u001b[39;49mstart()\n",
      "File \u001b[1;32mrasterio\\_env.pyx:361\u001b[0m, in \u001b[0;36mrasterio._env.GDALEnv.start\u001b[1;34m()\u001b[0m\n",
      "File \u001b[1;32mrasterio\\_env.pyx:373\u001b[0m, in \u001b[0;36mrasterio._env.GDALEnv.start\u001b[1;34m()\u001b[0m\n",
      "File \u001b[1;32mrasterio\\_env.pyx:266\u001b[0m, in \u001b[0;36mrasterio._env.GDALDataFinder.search_wheel\u001b[1;34m()\u001b[0m\n",
      "File \u001b[1;32mc:\\ProgramData\\miniconda3\\lib\\genericpath.py:19\u001b[0m, in \u001b[0;36mexists\u001b[1;34m(path)\u001b[0m\n\u001b[0;32m     17\u001b[0m \u001b[39m\u001b[39m\u001b[39m\"\"\"Test whether a path exists.  Returns False for broken symbolic links\"\"\"\u001b[39;00m\n\u001b[0;32m     18\u001b[0m \u001b[39mtry\u001b[39;00m:\n\u001b[1;32m---> 19\u001b[0m     os\u001b[39m.\u001b[39;49mstat(path)\n\u001b[0;32m     20\u001b[0m \u001b[39mexcept\u001b[39;00m (\u001b[39mOSError\u001b[39;00m, \u001b[39mValueError\u001b[39;00m):\n\u001b[0;32m     21\u001b[0m     \u001b[39mreturn\u001b[39;00m \u001b[39mFalse\u001b[39;00m\n",
      "\u001b[1;31mKeyboardInterrupt\u001b[0m: "
     ]
    }
   ],
   "source": [
    "#CROP per generare le immagini da trainare \n",
    "# to create a cropped image and save it as tif image\n",
    "import random\n",
    "from rasterio.windows import Window\n",
    "\n",
    "# to cut a tif image\n",
    "# The size in pixels of your desired window\n",
    "xsize, ysize = 224, 224\n",
    "\n",
    "i = 0\n",
    "\n",
    "for img in imgs:\n",
    "    # Generate a random window origin (upper left) that ensures the window \n",
    "    # doesn't go outside the image. i.e. origin can only be between \n",
    "    # 0 and image width or height less the window width or height\n",
    "    xmin, xmax = 0, img.width - xsize\n",
    "    ymin, ymax = 0, img.height - ysize\n",
    "    for xoff in range(0, xmax, xsize):\n",
    "        for yoff in range(0, ymax, ysize):\n",
    "\n",
    "            # Create a Window and calculate the transform from the source dataset    \n",
    "            window = Window(xoff, yoff, xsize, ysize)\n",
    "            transform = img.window_transform(window)\n",
    "\n",
    "            # Create a new cropped raster to write to\n",
    "            profile = img.profile\n",
    "            profile.update({\n",
    "                'height': xsize,\n",
    "                'width': ysize,\n",
    "                'transform': transform})\n",
    "\n",
    "            with rasterio.open(f'output{i}.tif', 'w', **profile) as dst:\n",
    "                # Read the data from the window and write it to the output raster\n",
    "                dst.write(img.read(window=window))\n",
    "            \n",
    "            i += 1"
   ]
  },
  {
   "cell_type": "code",
   "execution_count": null,
   "metadata": {},
   "outputs": [],
   "source": []
  }
 ],
 "metadata": {
  "kernelspec": {
   "display_name": "Python 3",
   "language": "python",
   "name": "python3"
  },
  "language_info": {
   "codemirror_mode": {
    "name": "ipython",
    "version": 3
   },
   "file_extension": ".py",
   "mimetype": "text/x-python",
   "name": "python",
   "nbconvert_exporter": "python",
   "pygments_lexer": "ipython3",
   "version": "3.9.7"
  },
  "orig_nbformat": 4
 },
 "nbformat": 4,
 "nbformat_minor": 2
}

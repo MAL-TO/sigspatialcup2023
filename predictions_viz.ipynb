{
 "cells": [
  {
   "cell_type": "code",
   "execution_count": 1,
   "metadata": {},
   "outputs": [],
   "source": [
    "import pytorch_lightning as pl\n",
    "from model import SegmentationModel, SigspatialDataset\n",
    "from pathlib import Path\n",
    "import os\n",
    "import torch\n",
    "import utils\n",
    "import matplotlib.pyplot as plt\n",
    "\n",
    "BASE_DIR = utils.BASE_DIR\n",
    "LOGS_DIR = \"/data1/malto/sigspatial/logs\"\n",
    "last_version = max([int(s.replace(\"version_\", \"\")) for s in os.listdir(f\"{LOGS_DIR}/lightning_logs\")])\n",
    "\n",
    "checkpoint_folder = Path(f\"{LOGS_DIR}/lightning_logs/version_{last_version}/checkpoints\")\n",
    "filenames = [name for name in os.listdir(checkpoint_folder) if name.split(\".\")[-1] == \"ckpt\"]\n",
    "\n",
    "model = SegmentationModel.load_from_checkpoint(checkpoint_folder / filenames[0])\n",
    "im_num = 7\n"
   ]
  },
  {
   "cell_type": "code",
   "execution_count": 2,
   "metadata": {},
   "outputs": [],
   "source": [
    "ds = SigspatialDataset()"
   ]
  },
  {
   "cell_type": "code",
   "execution_count": 3,
   "metadata": {},
   "outputs": [
    {
     "data": {
      "text/plain": [
       "(torch.Size([3, 2048, 2048]), torch.Size([2, 2048, 2048]))"
      ]
     },
     "execution_count": 3,
     "metadata": {},
     "output_type": "execute_result"
    }
   ],
   "source": [
    "for x, y in ds:\n",
    "    if torch.argmax(y, dim=0).max() != 0:\n",
    "    #if y.max() != 0:\n",
    "        break\n",
    "x.shape, y.shape"
   ]
  },
  {
   "cell_type": "code",
   "execution_count": 4,
   "metadata": {},
   "outputs": [
    {
     "name": "stderr",
     "output_type": "stream",
     "text": [
      "/data1/malto/fborra/venv/lib/python3.9/site-packages/segmentation_models_pytorch/base/modules.py:116: UserWarning: Implicit dimension choice for softmax has been deprecated. Change the call to include dim=X as an argument.\n",
      "  return self.activation(x)\n"
     ]
    }
   ],
   "source": [
    "model.eval()\n",
    "device = torch.device('cuda' if torch.cuda.is_available() else 'cpu')\n",
    "x = x.to(device=device).unsqueeze(dim=0)\n",
    "pred = model(x)"
   ]
  },
  {
   "cell_type": "code",
   "execution_count": 5,
   "metadata": {},
   "outputs": [
    {
     "data": {
      "text/plain": [
       "tensor([[[0.9925, 0.9923, 0.9921,  ..., 0.9919, 0.9927, 0.9935],\n",
       "         [0.9923, 0.9925, 0.9926,  ..., 0.9917, 0.9920, 0.9923],\n",
       "         [0.9921, 0.9926, 0.9931,  ..., 0.9916, 0.9913, 0.9910],\n",
       "         ...,\n",
       "         [0.9963, 0.9961, 0.9959,  ..., 0.9954, 0.9949, 0.9944],\n",
       "         [0.9966, 0.9963, 0.9959,  ..., 0.9947, 0.9944, 0.9940],\n",
       "         [0.9968, 0.9964, 0.9960,  ..., 0.9939, 0.9937, 0.9935]],\n",
       "\n",
       "        [[0.0075, 0.0077, 0.0079,  ..., 0.0081, 0.0073, 0.0065],\n",
       "         [0.0077, 0.0075, 0.0074,  ..., 0.0083, 0.0080, 0.0077],\n",
       "         [0.0079, 0.0074, 0.0069,  ..., 0.0084, 0.0087, 0.0090],\n",
       "         ...,\n",
       "         [0.0037, 0.0039, 0.0041,  ..., 0.0046, 0.0051, 0.0056],\n",
       "         [0.0034, 0.0037, 0.0041,  ..., 0.0053, 0.0056, 0.0060],\n",
       "         [0.0032, 0.0036, 0.0040,  ..., 0.0061, 0.0063, 0.0065]]],\n",
       "       device='cuda:0', grad_fn=<SqueezeBackward1>)"
      ]
     },
     "execution_count": 5,
     "metadata": {},
     "output_type": "execute_result"
    }
   ],
   "source": [
    "pred = pred.squeeze(dim=0)\n",
    "pred"
   ]
  },
  {
   "cell_type": "code",
   "execution_count": 6,
   "metadata": {},
   "outputs": [
    {
     "data": {
      "text/plain": [
       "(torch.Size([2048, 2048]), torch.Size([2048, 2048]))"
      ]
     },
     "execution_count": 6,
     "metadata": {},
     "output_type": "execute_result"
    }
   ],
   "source": [
    "pred = torch.argmax(pred, dim=0)\n",
    "y = torch.argmax(y, dim=0)\n",
    "pred.shape, y.shape"
   ]
  },
  {
   "cell_type": "code",
   "execution_count": 7,
   "metadata": {},
   "outputs": [
    {
     "data": {
      "text/plain": [
       "<matplotlib.image.AxesImage at 0x7efb40604a30>"
      ]
     },
     "execution_count": 7,
     "metadata": {},
     "output_type": "execute_result"
    },
    {
     "data": {
      "image/png": "[encoded data removed]",
      "text/plain": [
       "<Figure size 640x480 with 1 Axes>"
      ]
     },
     "metadata": {},
     "output_type": "display_data"
    }
   ],
   "source": [
    "plt.imshow(y.squeeze(dim=0))"
   ]
  },
  {
   "cell_type": "code",
   "execution_count": 8,
   "metadata": {},
   "outputs": [
    {
     "data": {
      "text/plain": [
       "<matplotlib.image.AxesImage at 0x7efb4a4f4c10>"
      ]
     },
     "execution_count": 8,
     "metadata": {},
     "output_type": "execute_result"
    },
    {
     "data": {
      "image/png": "[encoded data removed]",
      "text/plain": [
       "<Figure size 640x480 with 1 Axes>"
      ]
     },
     "metadata": {},
     "output_type": "display_data"
    }
   ],
   "source": [
    "plt.imshow(pred.to(device='cpu').squeeze(dim=0).detach().numpy())"
   ]
  },
  {
   "cell_type": "code",
   "execution_count": null,
   "metadata": {},
   "outputs": [],
   "source": []
  }
 ],
 "metadata": {
  "kernelspec": {
   "display_name": "venv",
   "language": "python",
   "name": "python3"
  },
  "language_info": {
   "codemirror_mode": {
    "name": "ipython",
    "version": 3
   },
   "file_extension": ".py",
   "mimetype": "text/x-python",
   "name": "python",
   "nbconvert_exporter": "python",
   "pygments_lexer": "ipython3",
   "version": "3.9.7"
  },
  "orig_nbformat": 4
 },
 "nbformat": 4,
 "nbformat_minor": 2
}
